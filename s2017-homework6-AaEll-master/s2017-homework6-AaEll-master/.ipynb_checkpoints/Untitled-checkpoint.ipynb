{
 "cells": [
  {
   "cell_type": "code",
   "execution_count": 7,
   "metadata": {
    "collapsed": false
   },
   "outputs": [
    {
     "name": "stdout",
     "output_type": "stream",
     "text": [
      "[('a', 3), ('b', 1), ('c', 1), ('d', 2), ('f', 1)]\n"
     ]
    }
   ],
   "source": [
    "%matplotlib inline\n",
    "import matplotlib.pyplot as plt\n",
    "import pandas as pd\n",
    "import numpy as np\n",
    "import sys\n",
    "import matplotlib.pyplot as plt\n",
    "import networkx as nx\n",
    "from lxml import etree\n",
    "from sklearn.preprocessing import MinMaxScaler\n",
    "\n",
    "G=nx.Graph()\n",
    "G.add_edge('a','b')\n",
    "G.add_edge('c','a')\n",
    "G.add_edge('d','f')\n",
    "G.add_edge('d','a')\n",
    "\n",
    "print (list(nx.degree(G).items()))\n",
    "\n",
    "\n",
    "\n"
   ]
  },
  {
   "cell_type": "code",
   "execution_count": 8,
   "metadata": {
    "collapsed": false
   },
   "outputs": [],
   "source": [
    "LargestDegree = [0,0]\n",
    "LD_name = ['','']\n",
    "DegList = list(nx.degree(G).items())\n",
    "for i in range(nx.number_of_nodes(G)):\n",
    "    if LargestDegree[0]<DegList[i][1]:\n",
    "        LargestDegree[0] = DegList[i][1]\n",
    "        LD_name[0] = DegList[i][0]\n",
    "        if LargestDegree[0]>LargestDegree[1]:\n",
    "            LargestDegree[0] = LargestDegree[1]\n",
    "            LD_name[0] = LD_name[1]\n",
    "            LargestDegree[1] = DegList[i][1]\n",
    "            LD_name[1] = DegList[i][0]\n",
    "            "
   ]
  },
  {
   "cell_type": "code",
   "execution_count": 21,
   "metadata": {
    "collapsed": false
   },
   "outputs": [
    {
     "ename": "KeyError",
     "evalue": "0",
     "output_type": "error",
     "traceback": [
      "\u001b[0;31m---------------------------------------------------------------------------\u001b[0m",
      "\u001b[0;31mKeyError\u001b[0m                                  Traceback (most recent call last)",
      "\u001b[0;32m<ipython-input-21-bb907de2cff4>\u001b[0m in \u001b[0;36m<module>\u001b[0;34m()\u001b[0m\n\u001b[1;32m      6\u001b[0m \u001b[0mnode_colors\u001b[0m \u001b[0;34m=\u001b[0m \u001b[0;34m[\u001b[0m\u001b[0;34m]\u001b[0m\u001b[0;34m\u001b[0m\u001b[0m\n\u001b[1;32m      7\u001b[0m \u001b[0;32mfor\u001b[0m \u001b[0mv\u001b[0m \u001b[0;32min\u001b[0m \u001b[0mrange\u001b[0m\u001b[0;34m(\u001b[0m\u001b[0mnx\u001b[0m\u001b[0;34m.\u001b[0m\u001b[0mnumber_of_nodes\u001b[0m\u001b[0;34m(\u001b[0m\u001b[0mGcopy\u001b[0m\u001b[0;34m)\u001b[0m\u001b[0;34m)\u001b[0m\u001b[0;34m:\u001b[0m\u001b[0;34m\u001b[0m\u001b[0m\n\u001b[0;32m----> 8\u001b[0;31m     \u001b[0mnode_colors\u001b[0m\u001b[0;34m.\u001b[0m\u001b[0mappend\u001b[0m\u001b[0;34m(\u001b[0m\u001b[0mcolors\u001b[0m\u001b[0;34m[\u001b[0m\u001b[0mnode_set\u001b[0m\u001b[0;34m[\u001b[0m\u001b[0mv\u001b[0m\u001b[0;34m]\u001b[0m\u001b[0;34m]\u001b[0m\u001b[0;34m)\u001b[0m\u001b[0;34m\u001b[0m\u001b[0m\n\u001b[0m",
      "\u001b[0;31mKeyError\u001b[0m: 0"
     ]
    }
   ],
   "source": [
    "cut_edges = nx.minimum_edge_cut(G, s=LD_name[0], t=LD_name[1])\n",
    "Gcopy = G.copy()\n",
    "Gcopy.remove_edges_from(cut_edges)\n",
    "colors = ['#d7191c', '#2b83ba']\n",
    "node_set = {node: i for i, s in enumerate(Gcopy) for node in s}\n",
    "node_colors = []\n",
    "for v in range(nx.number_of_nodes(Gcopy)):\n",
    "    node_colors.append(colors[node_set[v]])\n"
   ]
  },
  {
   "cell_type": "code",
   "execution_count": 22,
   "metadata": {
    "collapsed": false
   },
   "outputs": [
    {
     "name": "stdout",
     "output_type": "stream",
     "text": [
      "0\n"
     ]
    }
   ],
   "source": [
    "node_set"
   ]
  },
  {
   "cell_type": "code",
   "execution_count": 7,
   "metadata": {
    "collapsed": false
   },
   "outputs": [
    {
     "name": "stdout",
     "output_type": "stream",
     "text": [
      "{'Id': '27727381', 'PostTypeId': '2', 'ParentId': '2845211', 'CreationDate': '2015-01-01T00:00:27.040', 'Score': '6', 'Body': '<p>create an header file \"macros.h\"</p>\\n\\n<p>import this header into Prefix.pch</p>\\n\\n<p>In this macros.h put all the frameworks and other important things.</p>\\n\\n<p>If you are worried about performance, don\\'t worry, look what apple says:</p>\\n\\n<p>Headers and Performance</p>\\n\\n<blockquote>\\n  <p>If you are worried that including a master header file may cause your\\n  program to bloat, don’t worry. Because OS X interfaces are implemented\\n  using frameworks, the code for those interfaces resides in a dynamic\\n  shared library and not in your executable. In addition, only the code\\n  used by your program is ever loaded into memory at runtime, so your\\n  in-memory footprint similarly stays small.\\n        As for including a large number of header files during compilation, once again, don’t worry. Xcode provides a precompiled\\n  header facility to speed up compile times. By compiling all the\\n  framework headers at once, there is no need to recompile the headers\\n  unless you add a new framework. In the meantime, you can use any\\n  interface from the included frameworks with little or no performance\\n  penalty.</p>\\n</blockquote>\\n\\n<p>also in my macros.h I put a lot of constants like:</p>\\n\\n<pre><code>// delegate\\n#define UIAppDelegate (AppDelegate *)[[UIApplication sharedApplication] delegate]\\n#define APPDELEGATE   ((AppDelegate *)[[UIApplication sharedApplication] delegate])\\n\\n// system\\n#define IS_IPHONE_4INCH (UI_USER_INTERFACE_IDIOM()==UIUserInterfaceIdiomPhone &amp;&amp; [UIScreen mainScreen].bounds.size.height==568)\\n#define IS_IPAD                     (UI_USER_INTERFACE_IDIOM() == UIUserInterfaceIdiomPad)\\n\\n// screen size\\n#define IS_IPAD (UI_USER_INTERFACE_IDIOM() == UIUserInterfaceIdiomPad)\\n#define IS_IPHONE (UI_USER_INTERFACE_IDIOM() == UIUserInterfaceIdiomPhone)\\n#define IS_IPHONE_4 (IS_IPHONE &amp;&amp; [[UIScreen mainScreen] bounds].size.height == 480.0)\\n#define IS_IPHONE_5 (IS_IPHONE &amp;&amp; [[UIScreen mainScreen] bounds].size.height == 568.0)\\n#define IS_IPHONE_6 (IS_IPHONE &amp;&amp; [[UIScreen mainScreen] bounds].size.height == 667.0)\\n#define IS_IPHONE_6PLUS (IS_IPHONE &amp;&amp; [[UIScreen mainScreen] nativeScale] == 3.0f)\\n#define IS_IPHONE_6_PLUS (IS_IPHONE &amp;&amp; [[UIScreen mainScreen] bounds].size.height == 736.0)\\n#define IS_RETINA ([[UIScreen mainScreen] scale] == 2.0)\\n#define IS_RETINA_DISPLAY ([[UIScreen mainScreen] respondsToSelector:@selector(displayLinkWithTarget:selector:)] &amp;&amp; ([UIScreen mainScreen].scale == 2.0))\\n#define IS_PORTRAIT                 UIInterfaceOrientationIsPortrait([[UIApplication sharedApplication] statusBarOrientation])\\n#define IS_LANDSCAPE                UIInterfaceOrientationIsLandscape([[UIApplication sharedApplication] statusBarOrientation])\\n\\n//system version\\n#define SYSTEM_VERSION_LESS_THAN(v) ([[[UIDevice currentDevice] systemVersion] compare:v options:NSNumericSearch] == NSOrderedAscending)\\n#define SYSTEM_VERSION_GREATER_THAN(v) ([[[UIDevice currentDevice] systemVersion] compare:v options:NSNumericSearch] == NSOrderedDescending)\\n\\n// math\\n#define DEGREES_TO_RADIANS(angle) ((angle) / 180.0 * M_PI)\\n#define RADIANS_TO_DEGREES(radians) ((radians) * (180.0 / M_PI))\\n\\n// cores\\n#define RGB(r,g,b)    [UIColor colorWithRed:(r)/255.0 green:(g)/255.0 blue:(b)/255.0 alpha:1]\\n#define RGBA(r,g,b,a) [UIColor colorWithRed:(r)/255.0 green:(g)/255.0 blue:(b)/255.0 alpha:a]\\n#define MAKECOLOR(R, G, B, A) [UIColor colorWithRed:((float)R/255.0f) green:((float)G/255.0f) blue:((float)B/255.0f) alpha:A]\\n#define MAKECOLORFROMHEX(hexValue) [UIColor colorWithRed: ((float)((hexValue &amp; 0xFF0000) &gt;&gt; 16))/255.0 green:((float)((hexValue &amp; 0xFF00) &gt;&gt; 8))/255.0 blue:((float)(hexValue &amp; 0xFF))/255.0 alpha:1.0]\\n\\n\\n\\n//customizations\\n#define SHOW_STATUS_BAR               [[UIApplication sharedApplication] setStatusBarHidden:NO withAnimation:UIStatusBarAnimationNone];\\n#define HIDE_STATUS_BAR               [[UIApplication sharedApplication] setStatusBarHidden:YES withAnimation:UIStatusBarAnimationNone];\\n\\n#define SHOW_NAVIGATION_BAR           [self.navigationController setNavigationBarHidden:FALSE];\\n#define HIDE_NAVIGATION_BAR           [self.navigationController setNavigationBarHidden:TRUE];\\n\\n#define VC_OBJ(x) [[x alloc] init]\\n#define VC_OBJ_WITH_NIB(x) [[x alloc] initWithNibName : (NSString *)CFSTR(#x) bundle : nil]\\n\\n#define RESIGN_KEYBOARD [[[UIApplication sharedApplication] keyWindow] endEditing:YES];\\n\\n#define CLEAR_NOTIFICATION_BADGE                       [UIApplication sharedApplication].applicationIconBadgeNumber = 0;\\n#define REGISTER_APPLICATION_FOR_NOTIFICATION_SERVICE  [[UIApplication sharedApplication] registerForRemoteNotificationTypes:(UIRemoteNotificationTypeBadge | UIRemoteNotificationTypeSound | UIRemoteNotificationTypeAlert)]\\n\\n#define HIDE_NETWORK_ACTIVITY_INDICATOR                 [[UIApplication sharedApplication] setNetworkActivityIndicatorVisible:NO];\\n#define SHOW_NETWORK_ACTIVITY_INDICATOR                 [[UIApplication sharedApplication] setNetworkActivityIndicatorVisible:YES];\\n</code></pre>\\n', 'OwnerUserId': '1971096', 'LastActivityDate': '2015-01-01T00:00:27.040', 'CommentCount': '0'}\n",
      "\n",
      "\n",
      "{'Id': '27727382', 'PostTypeId': '2', 'ParentId': '27727116', 'CreationDate': '2015-01-01T00:00:31.240', 'Score': '0', 'Body': '<p>In C, simple addition of numbers will not form a string.</p>\\n\\n<p>Instead, create a buffer and print to it.</p>\\n\\n<pre><code>// const char* buf = (char)(((int)0)+s_time_b_h) + \":\" + \\n//    (char)(((int)0)+s_time_b_min);\\n\\n//create a string that merges 2 integers together and puts a colon in the middle\\nchar   buf[100];\\nsprintf(buf, \"%d:%d\", s_time_b_h, s_time_b_min);\\n</code></pre>\\n', 'OwnerUserId': '2410359', 'LastActivityDate': '2015-01-01T00:00:31.240', 'CommentCount': '1'}\n",
      "\n",
      "\n",
      "{'Id': '27727384', 'PostTypeId': '2', 'ParentId': '27725620', 'CreationDate': '2015-01-01T00:00:50.550', 'Score': '1', 'Body': '<p>The download linked in Joel Mueller\\'s answer (also <a href=\"https://www.microsoft.com/en-us/download/details.aspx?id=44011\" rel=\"nofollow\">here</a>) is the official installer from Microsoft.  It contains the compiler, interactive, multiple versions of the runtime, and the Visual Studio integration binaries.</p>\\n\\n<p>The VS integration bits are only deployed if VS is installed (dev scenario).  Otherwise, it will just install the compiler/interactive/runtime (server scenario).</p>\\n\\n<p>Only the latest version of the runtime (4.3.1.0 at this time) is GACed by the installer, but various other versions are deployed, as well, including 4.3.0.0.</p>\\n\\n<p>Adding assemblies to the GAC is very easy. Just run <code>gacutil /I \"C:\\\\Program Files (x86)\\\\Reference Assemblies\\\\Microsoft\\\\FSharp\\\\.NETFramework\\\\v4.0\\\\4.3.0.0\\\\FSharp.Core.dll\"</code> as admin.</p>\\n', 'OwnerUserId': '1366219', 'LastActivityDate': '2015-01-01T00:00:50.550', 'CommentCount': '1'}\n",
      "\n",
      "\n",
      "{'Id': '27727385', 'PostTypeId': '1', 'AcceptedAnswerId': '27727478', 'CreationDate': '2015-01-01T00:00:58.253', 'Score': '0', 'ViewCount': '184', 'Body': '<p>I am uploading multiple images via the code below (it works), but I can\\'t insert these images\\' urls into my database. I tried a few thing but can\\'t make it work. My code is inn\\'t completed yet, so I didn\\'t add controls (filetype, filesize, etc) yet.</p>\\n\\n<p>index.php</p>\\n\\n<pre><code>&lt;form action=\"upload.php\" method=\"post\" enctype=\"multipart/form-data\"&gt; \\n    &lt;div id=\"file_container\"&gt;\\n        &lt;input name=\"images[]\" multiple type=\"file\" id=\"file[]\"/&gt;&lt;br/&gt;\\n        &lt;input type=\"submit\"&gt;\\n    &lt;/div&gt;\\n&lt;/form&gt;\\n</code></pre>\\n\\n<p>upload.php</p>\\n\\n<pre><code>$target = \"upload/\";\\n$test = 1;\\n\\nforeach ($_FILES[\\'images\\'][\\'name\\'] as $key =&gt; $value) {\\n    $path = $_FILES[\\'images\\'][\\'name\\'][$key];\\n    $ext = pathinfo($path, PATHINFO_EXTENSION); // getting the extension\\n\\n    // creating a unique value here\\n    $name = md5($name);\\n    $generate1 = md5(date(\\'Y-m-d H:i:s:u\\'));\\n    $randomizer = uniqid($name);\\n    $name = $name . $generate1 . $randomizer;\\n    $makeaname = $target . $name . \".\" . $ext;\\n\\n    if ($test == 1) {\\n        if (move_uploaded_file($_FILES[\\'images\\'][\\'tmp_name\\'][$key], $makeaname)) {\\n            echo \"&lt;strong&gt;\" . $value . \"&lt;/strong&gt; successful &lt;br /&gt;\\\\n\";\\n            echo $makeaname; // it echoes image urls, so everything is okay so far.\\n        }\\n    } else {\\n        echo \"Failed\";\\n    }\\n</code></pre>\\n\\n<p>I used the query below in a foreach loop after <code>echo $makeaname;</code> but it didn\\'t work. I appreciate any kind of help or guidance.</p>\\n\\n<pre><code>$upload_image = $sqli-&gt;prepare(\"INSERT INTO images(image_value, type, size) VALUES (?,?,?)\");\\n$upload_image-&gt;bind_param(\"sss\", $makeaname, $_FILES[\\'images\\'][\\'type\\'], $_FILES[\\'images\\'][\\'size\\']);\\n$upload_image-&gt;execute();\\n</code></pre>\\n', 'OwnerUserId': '3210431', 'LastActivityDate': '2015-01-01T00:23:35.983', 'Title': 'Inserting multiple records into MySQL from an array', 'Tags': '<php><mysql><arrays><mysqli>', 'AnswerCount': '2', 'CommentCount': '3', 'FavoriteCount': '0'}\n",
      "\n",
      "\n",
      "{'Id': '27727387', 'PostTypeId': '2', 'ParentId': '11962138', 'CreationDate': '2015-01-01T00:01:43.597', 'Score': '0', 'Body': \"<p>I can't really compare the two because I have used Libgdx only so far. For Libgdx, there are quite alot of resources and examples you can go over before you start to develop. Many supporters wrote easy-to-understand tutorials so it is quite easy to learn. </p>\\n\", 'OwnerUserId': '3886175', 'LastActivityDate': '2015-01-01T00:01:43.597', 'CommentCount': '0'}\n",
      "\n",
      "\n",
      "{'Id': '27727388', 'PostTypeId': '1', 'CreationDate': '2015-01-01T00:01:43.673', 'Score': '1', 'ViewCount': '180', 'Body': '<p>I have a simple tab separated file with a pig schema that I am trying to load and add two columns. When I load using \"--schema\" option of PigStorage, the addition fails with a ClassCastException. When I load with \\'--noschema\\', the addition works fine. Why is Pig failing with the exception in the former case?</p>\\n\\n<p>Here is the sample file with only 1 line of input with tab separated values:</p>\\n\\n<pre><code>a       1       1\\n</code></pre>\\n\\n<p>The schema \".pig_schema\" looks like:</p>\\n\\n<pre><code>{\"fields\":[{\"name\":\"str\",\"type\":55,\"description\":\"autogenerated from Pig Field Schema\",\"schema\":null},{\"name\":\"score\",\"type\":15,\"description\":\"autogenerated from Pig Field Schema\",\"schema\":null},{\"name\":\"count\",\"type\":15,\"description\":\"autogenerated from Pig Field Schema\",\"schema\":null}],\"version\":0,\"sortKeys\":[],\"sortKeyOrders\":[]}\\n</code></pre>\\n\\n<p>Here is the list of statements from the grunt shell:</p>\\n\\n<pre><code>a1 = load \\'/local/workplace/data\\' using PigStorage(); --load with schema\\ndescribe a1; -- a1: {str: chararray,score: long,count: long}\\nb1 = foreach a1 generate score + count;\\ndump b1; -- throws exception\\na2 = load \\'/local/workplace/data\\' using PigStorage(\\'\\\\t\\', \\'--noschema\\') as (str:chararray, score:long, count: long);\\nb2 = foreach a2 generate score+count; -- no exception\\ndump b2; -- works fine\\n</code></pre>\\n\\n<p>The exception that is thrown is:</p>\\n\\n<pre>org.apache.pig.backend.executionengine.ExecException: ERROR 0: Exception while executing [Add (Name: Add[long] - scope-34 Operator Key: scope-34) chi\\nldren: [[POProject (Name: Project[long][0] - scope-32 Operator Key: scope-32) children: null at []], [POProject (Name: Project[long][1] - scope-33 Op\\nerator Key: scope-33) children: null at []]] at []]: java.lang.ClassCastException: org.apache.pig.data.DataByteArray cannot be cast to java.lang.Numb\\ner\\n        at org.apache.pig.backend.hadoop.executionengine.physicalLayer.PhysicalOperator.getNext(PhysicalOperator.java:338)\\n        at org.apache.pig.backend.hadoop.executionengine.physicalLayer.relationalOperators.POForEach.processPlan(POForEach.java:378)\\n        at org.apache.pig.backend.hadoop.executionengine.physicalLayer.relationalOperators.POForEach.getNextTuple(POForEach.java:298)\\n        at org.apache.pig.backend.hadoop.executionengine.mapReduceLayer.PigGenericMapBase.runPipeline(PigGenericMapBase.java:282)\\n        at org.apache.pig.backend.hadoop.executionengine.mapReduceLayer.PigGenericMapBase.map(PigGenericMapBase.java:277)\\n        at org.apache.pig.backend.hadoop.executionengine.mapReduceLayer.PigGenericMapBase.map(PigGenericMapBase.java:64)\\n        at org.apache.hadoop.mapreduce.Mapper.run(Mapper.java:144)\\n        at org.apache.hadoop.mapred.MapTask.runNewMapper(MapTask.java:763)\\n        at org.apache.hadoop.mapred.MapTask.run(MapTask.java:369)\\n        at org.apache.hadoop.mapred.LocalJobRunner$Job.run(LocalJobRunner.java:210)\\nCaused by: java.lang.ClassCastException: org.apache.pig.data.DataByteArray cannot be cast to java.lang.Number\\n        at org.apache.pig.backend.hadoop.executionengine.physicalLayer.expressionOperators.Add.genericGetNext(Add.java:100)\\n        at org.apache.pig.backend.hadoop.executionengine.physicalLayer.expressionOperators.Add.getNextLong(Add.java:123)\\n        at org.apache.pig.backend.hadoop.executionengine.physicalLayer.PhysicalOperator.getNext(PhysicalOperator.java:323)\\n</pre>\\n\\n<p>Pig Version: 0.12.1</p>\\n', 'OwnerUserId': '868779', 'LastActivityDate': '2015-04-30T16:34:52.677', 'Title': 'Apache Pig ClassCast exception when loading data with schema', 'Tags': '<apache-pig>', 'AnswerCount': '1', 'CommentCount': '1'}\n",
      "\n",
      "\n",
      "{'Id': '27727389', 'PostTypeId': '2', 'ParentId': '27725803', 'CreationDate': '2015-01-01T00:02:02.050', 'Score': '3', 'Body': \"<p>Addressing your updated use case:</p>\\n\\n<p>(btw <code>Printable</code> is already a standard Swift protocol so you’d probably want to pick a different name to avoid confusion)</p>\\n\\n<p>To enforce specific restrictions on protocol implementors, you can constrain the protocol's typealias.  So to create your protocol collection that requires the elements to be printable:</p>\\n\\n<pre><code>// because of how how collections are structured in the Swift std lib,\\n// you’d first need to create a PrintableGeneratorType, which would be\\n// a constrained version of GeneratorType\\nprotocol PrintableGeneratorType: GeneratorType {\\n    // require elements to be printable:\\n    typealias Element: Printable\\n}\\n\\n// then have the collection require a printable generator\\nprotocol PrintableCollectionType: CollectionType {\\n    typealias Generator: PrintableGenerator\\n}\\n</code></pre>\\n\\n<p>Now if you wanted to implement a collection that could only contain printable elements:</p>\\n\\n<pre><code>struct MyPrintableCollection&lt;T: Printable&gt;: PrintableCollectionType {\\n    typealias Generator = IndexingGenerator&lt;T&gt;\\n    // etc...\\n}\\n</code></pre>\\n\\n<p>However, this is probably of little actual utility, since you can’t constrain existing Swift collection structs like that, only ones you implement.</p>\\n\\n<p>Instead, you should create generic functions that constrain their input to collections containing printable elements.</p>\\n\\n<pre><code>func printCollection\\n    &lt;C: CollectionType where C.Generator.Element: Printable&gt;\\n    (source: C) {\\n        for x in source {\\n            x.print()\\n        }\\n}\\n</code></pre>\\n\", 'OwnerUserId': '3925941', 'LastActivityDate': '2015-01-01T00:02:02.050', 'CommentCount': '1'}\n",
      "\n",
      "\n",
      "{'Id': '27727390', 'PostTypeId': '2', 'ParentId': '27726352', 'CreationDate': '2015-01-01T00:02:30.233', 'Score': '2', 'Body': '<p>It doesn\\'t need background images or the grid system. The Bootstrap docs correctly state that is something is always full width, then you don\\'t need the grid system.</p>\\n\\n<h2>DEMO: <a href=\"https://jsbin.com/gomoca/1/\" rel=\"nofollow\">https://jsbin.com/gomoca/1/</a></h2>\\n\\n<p><em><a href=\"https://jsbin.com/gomoca/1/edit?html,css,output\" rel=\"nofollow\">https://jsbin.com/gomoca/1/edit?html,css,output</a></em></p>\\n\\n<p><strong>HTML:</strong></p>\\n\\n<pre><code> &lt;section class=\"primary-page-header text-center\"&gt;\\n  &lt;div class=\"container\"&gt;\\n      &lt;h1&gt;Title&lt;/h1&gt;\\n      &lt;p&gt;Text Goes Here&lt;/p&gt;\\n    &lt;div class=\"page-header-img center-block\"&gt;\\n      &lt;img src=\"http://placekitten.com/g/150\" class=\"img-responsive img-circle\" alt=\"\" /&gt;\\n    &lt;/div&gt;\\n  &lt;/div&gt;&lt;!-- /.container --&gt;\\n  &lt;/section&gt;&lt;!-- /.primary-page-header&gt;\\n</code></pre>\\n\\n<p><strong>CSS:</strong></p>\\n\\n<pre><code>.primary-page-header {\\n    background: #f7f7f7;\\n    border-bottom: 4px double #aaa;\\n    padding-top: 5%;\\n}\\n.primary-page-header p {\\n    padding-bottom: 2%;\\n}\\n.primary-page-header h1 {\\n      font-size:24px;\\n}\\n.page-header-img img {\\n    border:1px solid #aaa;\\n    padding:3px;\\n    background:#fff;\\n}\\n.page-header-img {\\n    width: 50px;\\n    height: 50px;\\n    margin-bottom: -25px;\\n}\\n\\n@media (min-width:600px) { \\n    .page-header-img {\\n        width: 100px;\\n        height: 100px;\\n        margin-bottom: -50px;\\n    }\\n}\\n@media (min-width:768px) { \\n    .page-header-img {\\n        width: 150px;\\n        height: 150px;\\n        margin-bottom: -75px;\\n    }\\n    .primary-page-header h1 {\\n      font-size:55px;\\n    }\\n}\\n</code></pre>\\n', 'OwnerUserId': '1004312', 'LastActivityDate': '2015-01-01T00:02:30.233', 'CommentCount': '3'}\n",
      "\n",
      "\n"
     ]
    }
   ],
   "source": [
    "%matplotlib inline\n",
    "import matplotlib.pyplot as plt\n",
    "import pandas as pd\n",
    "import numpy as np\n",
    "import sys\n",
    "import matplotlib.pyplot as plt\n",
    "import networkx as nx\n",
    "from lxml import etree\n",
    "\n",
    "\n",
    "def tryPartition (StringOrNone):\n",
    "    if StringOrNone == None:\n",
    "        return 'none'\n",
    "    else:\n",
    "        return StringOrNone.partition('>')[0].partition('<')[2]\n",
    "\n",
    "\n",
    "xmlfile = 'stackoverflow-posts-2015.xml'\n",
    "context = etree.iterparse(xmlfile)\n",
    "\n",
    "G=nx.Graph()\n",
    "n=0\n",
    "#IDdf = pd.DataFrame(columns=[\"ID\",\"ParentID\"])\n",
    "#print(elem.attrib)\n",
    "\n",
    "for action, elem in context: #for values in the xml, we extract the CreationDate and the First Tag\n",
    "    if elem.get('PostTypeId') == \"2\": # if post is an answer\n",
    "        ID = elem.get('Id')\n",
    "        ParentID = elem.get('ParentId')\n",
    "        G.add_node(ParentID)\n",
    "        G.add_node(ID)\n",
    "        G.add_edge(ID,ParentID)\n",
    "        n=n+1\n",
    "    print (elem.attrib)\n",
    "    print(\"\")\n",
    "    print(\"\")\n",
    "    if n == 6:\n",
    "        \n",
    "        break\n",
    "    elem.clear()\n",
    "del n\n",
    "#nx.draw(G)"
   ]
  },
  {
   "cell_type": "code",
   "execution_count": 7,
   "metadata": {
    "collapsed": false
   },
   "outputs": [
    {
     "name": "stdout",
     "output_type": "stream",
     "text": [
      "dict_keys([1, 2, 3, 11]) [9, 3, 5, 1]\n"
     ]
    }
   ],
   "source": [
    "Dic = {1:9,2:3,3:5,11:1}\n",
    "print(Dic.keys(),list(Dic.values()))"
   ]
  },
  {
   "cell_type": "code",
   "execution_count": null,
   "metadata": {
    "collapsed": true
   },
   "outputs": [],
   "source": []
  }
 ],
 "metadata": {
  "kernelspec": {
   "display_name": "Python 3",
   "language": "python",
   "name": "python3"
  },
  "language_info": {
   "codemirror_mode": {
    "name": "ipython",
    "version": 3
   },
   "file_extension": ".py",
   "mimetype": "text/x-python",
   "name": "python",
   "nbconvert_exporter": "python",
   "pygments_lexer": "ipython3",
   "version": "3.6.0"
  }
 },
 "nbformat": 4,
 "nbformat_minor": 2
}
