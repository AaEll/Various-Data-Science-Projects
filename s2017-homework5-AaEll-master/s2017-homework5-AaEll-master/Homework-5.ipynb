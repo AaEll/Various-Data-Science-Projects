{
 "cells": [
  {
   "cell_type": "markdown",
   "metadata": {},
   "source": [
    "# Prediction of Restaurants rating based on review text of Yelp reviews"
   ]
  },
  {
   "cell_type": "markdown",
   "metadata": {},
   "source": [
    "**To be completed INDIVIDUALLY and due on April 18 at 3pm.**"
   ]
  },
  {
   "cell_type": "code",
   "execution_count": 1,
   "metadata": {
    "collapsed": false
   },
   "outputs": [
    {
     "name": "stdout",
     "output_type": "stream",
     "text": [
      "Aaron Elliot\n",
      "U71617701\n",
      "ellioa2@bu.edu\n"
     ]
    }
   ],
   "source": [
    "print('Aaron Elliot')\n",
    "print('U71617701')\n",
    "print('ellioa2@bu.edu')"
   ]
  },
  {
   "cell_type": "markdown",
   "metadata": {},
   "source": [
    "** (50 pts) **\n",
    "\n",
    "In this assignment, we will be working with the [Yelp dataset](http://cs-people.bu.edu/bahargam/506/yelp_dataset_challenge_academic_dataset.tar). You can find the format of the dataset [here](https://www.yelp.com/dataset_challenge).\n",
    "\n",
    "Our aim is to predict the rating of each restaurant from the reviews **text** of individuals reviews. \n",
    "\n",
    "You can use any model you learned in the class and then evaluate your model."
   ]
  },
  {
   "cell_type": "code",
   "execution_count": 83,
   "metadata": {
    "collapsed": false
   },
   "outputs": [],
   "source": [
    "import json\n",
    "import matplotlib.pyplot as plt\n",
    "import numpy as np\n",
    "import pandas as pd\n",
    "import seaborn as sns\n",
    "\n",
    "\n",
    "from sklearn.model_selection import train_test_split\n",
    "from sklearn.decomposition import TruncatedSVD\n",
    "from sklearn.feature_extraction.text import TfidfVectorizer\n",
    "import sklearn.linear_model.perceptron as p\n",
    "from sklearn.naive_bayes import BernoulliNB\n",
    "from sklearn.linear_model import PassiveAggressiveClassifier\n",
    "\n",
    "from sklearn.neighbors import KNeighborsClassifier #*\n",
    "from sklearn.random_projection import sparse_random_matrix #*\n",
    "from nltk.stem.snowball import SnowballStemmer #*\n",
    "from nltk.tokenize import word_tokenize, sent_tokenize #*\n",
    "from sklearn import preprocessing #*\n",
    "\n",
    "#nltk.download()"
   ]
  },
  {
   "cell_type": "code",
   "execution_count": 4,
   "metadata": {
    "collapsed": false
   },
   "outputs": [
    {
     "name": "stdout",
     "output_type": "stream",
     "text": [
      "Finished\n"
     ]
    }
   ],
   "source": [
    "BusinessDict = {}\n",
    "\n",
    "with open('yelp_academic_dataset_business.json', encoding = \"ISO-8859-1\") as Json:\n",
    "    for Business in Json:\n",
    "        data = json.loads(Business)\n",
    "        if 'Restaurants' in data[\"categories\"] and data['review_count']>0:\n",
    "            BusinessDict[data['business_id']]={'Lat':data['latitude'],'Long':data['longitude'],'Rating':data['stars']}\n",
    "print(\"Finished\")"
   ]
  },
  {
   "cell_type": "code",
   "execution_count": null,
   "metadata": {
    "collapsed": false
   },
   "outputs": [],
   "source": []
  },
  {
   "cell_type": "code",
   "execution_count": 5,
   "metadata": {
    "collapsed": false
   },
   "outputs": [
    {
     "name": "stdout",
     "output_type": "stream",
     "text": [
      "Finished\n"
     ]
    }
   ],
   "source": [
    "Rating_list = []\n",
    "TextList = []\n",
    "with open('yelp_academic_dataset_review.json', encoding = \"ISO-8859-1\") as Json:\n",
    "    for Review in Json:\n",
    "        data = json.loads(Review)\n",
    "        ID = data[\"business_id\"]\n",
    "        if (ID in BusinessDict):\n",
    "            TextList.append(data[\"text\"])\n",
    "            Rating_list.append([BusinessDict[ID]['Rating']])\n",
    "print(\"Finished\")"
   ]
  },
  {
   "cell_type": "code",
   "execution_count": 1,
   "metadata": {
    "collapsed": false
   },
   "outputs": [
    {
     "ename": "NameError",
     "evalue": "name 'SnowballStemmer' is not defined",
     "output_type": "error",
     "traceback": [
      "\u001b[0;31m---------------------------------------------------------------------------\u001b[0m",
      "\u001b[0;31mNameError\u001b[0m                                 Traceback (most recent call last)",
      "\u001b[0;32m<ipython-input-1-33f2e599b889>\u001b[0m in \u001b[0;36m<module>\u001b[0;34m()\u001b[0m\n\u001b[1;32m      1\u001b[0m \u001b[1;31m# I ran out of RAM and the process ground to a halt part way through.\u001b[0m\u001b[1;33m\u001b[0m\u001b[1;33m\u001b[0m\u001b[0m\n\u001b[0;32m----> 2\u001b[0;31m \u001b[0msno\u001b[0m \u001b[1;33m=\u001b[0m \u001b[0mSnowballStemmer\u001b[0m\u001b[1;33m(\u001b[0m\u001b[1;34m\"english\"\u001b[0m\u001b[1;33m,\u001b[0m \u001b[0mignore_stopwords\u001b[0m \u001b[1;33m=\u001b[0m \u001b[1;32mTrue\u001b[0m\u001b[1;33m)\u001b[0m\u001b[1;33m\u001b[0m\u001b[0m\n\u001b[0m\u001b[1;32m      3\u001b[0m \u001b[0mstem_text\u001b[0m \u001b[1;33m=\u001b[0m \u001b[1;33m[\u001b[0m\u001b[1;33m]\u001b[0m\u001b[1;33m\u001b[0m\u001b[0m\n\u001b[1;32m      4\u001b[0m \u001b[0mi\u001b[0m\u001b[1;33m=\u001b[0m\u001b[1;36m0\u001b[0m\u001b[1;33m\u001b[0m\u001b[0m\n\u001b[1;32m      5\u001b[0m \u001b[1;32mwhile\u001b[0m \u001b[0mTextList\u001b[0m\u001b[1;33m:\u001b[0m\u001b[1;33m\u001b[0m\u001b[0m\n",
      "\u001b[0;31mNameError\u001b[0m: name 'SnowballStemmer' is not defined"
     ]
    }
   ],
   "source": [
    "# I ran out of RAM and the process ground to a halt part way through.\n",
    "sno = SnowballStemmer(\"english\", ignore_stopwords = True)\n",
    "stem_text = []\n",
    "i=0\n",
    "while TextList:\n",
    "    message = TextList.pop(0)\n",
    "    for sent in sent_tokenize(message):\n",
    "        for word in word_tokenize(sent):\n",
    "            stem_text.append(\" \".join(sno.stem(word)))\n",
    "    if (i%1028==0):\n",
    "        print(i)\n",
    "    i=i+1\n",
    "\n",
    "'''\n",
    "---------------------------------------------------------------------------\n",
    "MemoryError                               Traceback (most recent call last)\n",
    "<ipython-input-21-b19f832e1ed5> in <module>()\n",
    "      8     for sent in sent_tokenize(message):\n",
    "      9         for word in word_tokenize(sent):\n",
    "---> 10             stem_text.append(\" \".join(sno.stem(word)))\n",
    "     11     if (i%1028==0):\n",
    "     12         print(i)\n",
    "\n",
    "MemoryError: \n",
    "\n",
    "'''"
   ]
  },
  {
   "cell_type": "code",
   "execution_count": 6,
   "metadata": {
    "collapsed": false
   },
   "outputs": [
    {
     "name": "stdout",
     "output_type": "stream",
     "text": [
      "Finished\n"
     ]
    }
   ],
   "source": [
    "vectorizer = TfidfVectorizer(stop_words='english', min_df=8, max_df=0.8)\n",
    "dtm = vectorizer.fit_transform(TextList)\n",
    "\n",
    "del TextList\n",
    "terms = vectorizer.get_feature_names()\n",
    "print(\"Finished\")"
   ]
  },
  {
   "cell_type": "code",
   "execution_count": null,
   "metadata": {
    "collapsed": false
   },
   "outputs": [],
   "source": []
  },
  {
   "cell_type": "code",
   "execution_count": 2,
   "metadata": {
    "collapsed": false,
    "scrolled": true
   },
   "outputs": [
    {
     "ename": "SyntaxError",
     "evalue": "invalid syntax (<ipython-input-2-562599efe512>, line 14)",
     "output_type": "error",
     "traceback": [
      "\u001b[0;36m  File \u001b[0;32m\"<ipython-input-2-562599efe512>\"\u001b[0;36m, line \u001b[0;32m14\u001b[0m\n\u001b[0;31m    --> 691         return np.asmatrix(self.toarray(order=order, out=out))\u001b[0m\n\u001b[0m      ^\u001b[0m\n\u001b[0;31mSyntaxError\u001b[0m\u001b[0;31m:\u001b[0m invalid syntax\n"
     ]
    }
   ],
   "source": [
    "# I would use this method as well. However, the machine I am working on does not allow for such a method to run.\n",
    "dtm_dense = dtm.todense()\n",
    "centered_dtm = dtm_dense - np.mean(dtm_dense, axis=0)\n",
    "\"\"\"\n",
    "MemoryError                               Traceback (most recent call last)\n",
    "<ipython-input-24-154643a84afd> in <module>()\n",
    "----> 1 dtm_dense = dtm.todense()\n",
    "      2 centered_dtm = dtm_dense - np.mean(dtm_dense, axis=0)\n",
    "      3 np.sum(centered_dtm,axis=0)[:,:10]\n",
    "\n",
    "C:\\Users\\Aaron\\Anaconda3\\lib\\site-packages\\scipy\\sparse\\base.py in todense(self, order, out)\n",
    "    689             `numpy.matrix` object that shares the same memory.\n",
    "    690         \"\"\"\n",
    "--> 691         return np.asmatrix(self.toarray(order=order, out=out))\n",
    "    692 \n",
    "    693     def toarray(self, order=None, out=None):\n",
    "\n",
    "C:\\Users\\Aaron\\Anaconda3\\lib\\site-packages\\scipy\\sparse\\compressed.py in toarray(self, order, out)\n",
    "    918     def toarray(self, order=None, out=None):\n",
    "    919         \"\"\"See the docstring for `spmatrix.toarray`.\"\"\"\n",
    "--> 920         return self.tocoo(copy=False).toarray(order=order, out=out)\n",
    "    921 \n",
    "    922     ##############################################################\n",
    "\n",
    "C:\\Users\\Aaron\\Anaconda3\\lib\\site-packages\\scipy\\sparse\\coo.py in toarray(self, order, out)\n",
    "    250     def toarray(self, order=None, out=None):\n",
    "    251         \"\"\"See the docstring for `spmatrix.toarray`.\"\"\"\n",
    "--> 252         B = self._process_toarray_args(order, out)\n",
    "    253         fortran = int(B.flags.f_contiguous)\n",
    "    254         if not fortran and not B.flags.c_contiguous:\n",
    "\n",
    "C:\\Users\\Aaron\\Anaconda3\\lib\\site-packages\\scipy\\sparse\\base.py in _process_toarray_args(self, order, out)\n",
    "   1007             return out\n",
    "   1008         else:\n",
    "-> 1009             return np.zeros(self.shape, dtype=self.dtype, order=order)\n",
    "   1010 \n",
    "   1011     def __numpy_ufunc__(self, func, method, pos, inputs, **kwargs):\n",
    "\n",
    "MemoryError: \"\"\""
   ]
  },
  {
   "cell_type": "code",
   "execution_count": 7,
   "metadata": {
    "collapsed": false
   },
   "outputs": [],
   "source": [
    "svd = TruncatedSVD(n_components=100, n_iter=4)\n",
    "svdOutput = svd.fit_transform(dtm)\n",
    "del(dtm)"
   ]
  },
  {
   "cell_type": "code",
   "execution_count": 8,
   "metadata": {
    "collapsed": false
   },
   "outputs": [
    {
     "name": "stdout",
     "output_type": "stream",
     "text": [
      "[ 0.00301771  0.00535009  0.00464201  0.00355157  0.00341828  0.00337233\n",
      "  0.00309166  0.00300543  0.00270783  0.00258469  0.00244038  0.00239479\n",
      "  0.00228389  0.0021861   0.00215682]\n"
     ]
    },
    {
     "data": {
      "image/png": "[encoded data removed]",
      "text/plain": [
       "<matplotlib.figure.Figure at 0x1c1046d3f98>"
      ]
     },
     "metadata": {},
     "output_type": "display_data"
    }
   ],
   "source": [
    "%matplotlib inline\n",
    "plt.xlim([0,100])\n",
    "plt.plot(range(1,len(svd.explained_variance_)+1),svd.explained_variance_)\n",
    "plt.xlabel('Number of Eigenvector')\n",
    "plt.ylabel('Explained Variance')\n",
    "print(svd.explained_variance_[0:15])"
   ]
  },
  {
   "cell_type": "code",
   "execution_count": 81,
   "metadata": {
    "collapsed": false
   },
   "outputs": [],
   "source": [
    "def Absolutely_Correct(TrueValues,ExpectedValues):\n",
    "    Count_True = 0\n",
    "    Count_False = 0\n",
    "    if len(TrueValues)==len(ExpectedValues):\n",
    "        for i in range(len(TrueValues)):\n",
    "            if str(TrueValues[i])==ExpectedValues[i]:\n",
    "                Count_True+=1\n",
    "            else:\n",
    "                Count_False+=1\n",
    "        return((Count_True,Count_False))\n",
    "    else:\n",
    "        print('Error len of values do not match in R2')\n",
    "        return(Null)\n"
   ]
  },
  {
   "cell_type": "code",
   "execution_count": 10,
   "metadata": {
    "collapsed": false
   },
   "outputs": [],
   "source": [
    "svdOutput = np.concatenate((svdOutput,Rating_list), axis = 1)"
   ]
  },
  {
   "cell_type": "code",
   "execution_count": 36,
   "metadata": {
    "collapsed": false
   },
   "outputs": [],
   "source": [
    "train, test = train_test_split(svdOutput,test_size = 0.1)\n",
    "Mean = np.mean(train[:,-1])\n",
    "test_y = list(map(float, test[:,-1]))#.tolist()\n",
    "train_y = list(map(str,train[:,-1]))#.tolist()\n",
    "train = np.delete(train,-1,1)\n",
    "test = np.delete(test,-1,1)"
   ]
  },
  {
   "cell_type": "code",
   "execution_count": 84,
   "metadata": {
    "collapsed": false
   },
   "outputs": [],
   "source": [
    "# Using perceptrons, as it was the first method that would work on this machine for this large of data\n",
    "# Sadly this is not a model we used in this class. So I will also evaluate with Niave Bayes, a method we\n",
    "# touched on in class.\n",
    "# Additionally, I will use Passive aggressive Classifier, because the name sounds funny.\n",
    "\n",
    "C = ['1.0','1.5','2.0','2.5','3.0','3.5','4.0','4.5','5.0']# or np.unique(train_y)\n",
    "\n",
    "PP = p.Perceptron(n_iter=100, fit_intercept=True, eta0=0.002)\n",
    "PP.partial_fit(train, train_y, classes = C)\n",
    "Pred_PP = PP.predict(test)\n",
    "\n",
    "NBP = BernoulliNB()\n",
    "NBP.partial_fit(train, train_y, classes = C)\n",
    "Pred_NBP = NBP.predict(test)\n",
    "\n",
    "PAC = PassiveAggressiveClassifier()\n",
    "PAC.partial_fit(train,train_y,classes = C)\n",
    "Pred_PAC = PAC.predict(test)"
   ]
  },
  {
   "cell_type": "code",
   "execution_count": 88,
   "metadata": {
    "collapsed": false
   },
   "outputs": [
    {
     "name": "stdout",
     "output_type": "stream",
     "text": [
      "The Percent correct for Niave Bayse was 0.413981\n",
      "The Percent correct for Perceptron was 0.381661\n",
      "The Percent correct for Passive Aggressive Classifier was 0.292720\n"
     ]
    }
   ],
   "source": [
    "PPVal = Absolutely_Correct(test_y,Pred_PP)\n",
    "PPAC = PPVal2[0]/(PPVal2[0]+PPVal2[1])\n",
    "\n",
    "NBVal = Absolutely_Correct(test_y,Pred_NBP)\n",
    "NBAC = NBVal2[0]/(NBVal2[0]+NBVal2[1])\n",
    "\n",
    "PACVal = Absolutely_Correct(test_y,Pred_PAC)\n",
    "PAAC = PACVal[0]/(PACVal[1]+PACVal[0])\n",
    "print('The Percent correct for Niave Bayse was %f' % NBAC)\n",
    "print('The Percent correct for Perceptron was %f' % PPAC)\n",
    "print('The Percent correct for Passive Aggressive Classifier was %f' % PAAC)\n"
   ]
  },
  {
   "cell_type": "code",
   "execution_count": null,
   "metadata": {
    "collapsed": false
   },
   "outputs": [],
   "source": [
    "# I was also working on a majority vote calculator, but it wasnt so simple for 9 distinct classifications\n",
    "# so I left this unfinished\n",
    "'''def Majority_Vote(TrueValues, ExpectedValues1,ExpectedValues2,ExpectedValues3):\n",
    "    Count_True = 0\n",
    "    Count_False = 0\n",
    "    if len(TrueValues)==len(ExpectedValues):\n",
    "        for i in range(len(TrueValues)):\n",
    "            if ExpectedValues2[i] == ExpectedValues3[i]:\n",
    "                if  == TrueValues[i]\n",
    "                    Count_True+=1\n",
    "            else:\n",
    "                if TrueValues[i] == ExpectedValues1[i]:\n",
    "                    Count_True+=1\n",
    "                    else:\n",
    "\n",
    "            if str(TrueValues[i])==ExpectedValues[i]:\n",
    "                Count_True+=1\n",
    "            else:\n",
    "                Count_False+=1\n",
    "        return((Count_True,Count_False))\n",
    "    else:\n",
    "        print('Error len of values do not match in R2')\n",
    "        return(Null)\n",
    "\n",
    "    '''\n"
   ]
  },
  {
   "cell_type": "code",
   "execution_count": null,
   "metadata": {
    "collapsed": true
   },
   "outputs": [],
   "source": [
    "# Overall, the success of Niave Bayse makes it a clear winner, with 41% success rate on our dataset.\n",
    "# Perceptron also performed well, and with some tooling, it likely could have beaten Niave Bayse.\n",
    "# I wanted to setup a method which bagged Niave Bayse Perceptron and another method in a majority vote scenary.\n",
    "# However, I ran out of time for that."
   ]
  },
  {
   "cell_type": "code",
   "execution_count": null,
   "metadata": {
    "collapsed": true
   },
   "outputs": [],
   "source": []
  }
 ],
 "metadata": {
  "anaconda-cloud": {},
  "kernelspec": {
   "display_name": "Python [conda root]",
   "language": "python",
   "name": "conda-root-py"
  },
  "language_info": {
   "codemirror_mode": {
    "name": "ipython",
    "version": 3
   },
   "file_extension": ".py",
   "mimetype": "text/x-python",
   "name": "python",
   "nbconvert_exporter": "python",
   "pygments_lexer": "ipython3",
   "version": "3.5.2"
  }
 },
 "nbformat": 4,
 "nbformat_minor": 0
}
