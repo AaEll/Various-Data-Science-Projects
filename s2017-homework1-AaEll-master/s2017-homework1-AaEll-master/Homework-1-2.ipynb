{
 "cells": [
  {
   "cell_type": "markdown",
   "metadata": {},
   "source": [
    "# Stack Overflow"
   ]
  },
  {
   "cell_type": "markdown",
   "metadata": {},
   "source": [
    "## Introduction "
   ]
  },
  {
   "cell_type": "markdown",
   "metadata": {},
   "source": [
    "In the second part of this assignment, we will create and analyze time series of creation dates of Stack Overflow questions. This assignment is to be completed **INDIVIDUALLY** and it is due on **February 23 at 3pm**."
   ]
  },
  {
   "cell_type": "code",
   "execution_count": null,
   "metadata": {
    "collapsed": true
   },
   "outputs": [],
   "source": [
    "print(\"Aaron Elliot\")\n",
    "print(\"BU ID: U71617701\")"
   ]
  },
  {
   "cell_type": "markdown",
   "metadata": {},
   "source": [
    "Let's create some time series from the data. You may choose to analyze either users or tags. To analyze users, take the top 100 users with the most question posts. For each user, your time series will be the number of questions posted by that user at some frequency. To analyze tags, take the top 100 most popular question tags. For each tag, your time series will be the number of questions with that tag at some frequency. You may choose to sample your data each week, each month, on a certain day of the week or at certain hours in a day depending on what trend you are hoping to find in the data. For example, if you choose to analyze tags and sample during different hours of the day, your hypothesis could be that languages (e.g. Javascript) that are used more in industry will have more questions posted during work hours, whereas languages (e.g. Python) that are taught in academia will have more questions posted after midnight when students are scrambling to finish their homework.\n",
    "\n",
    "Compare the time series using one of the methods discussed in class. In a few paragraphs, write down what you were hoping to find in the data, what timeseries you created, what method you chose and why. **(25 pts)**\n",
    "\n",
    "Plot the 2 most similar timeseries in one graph, and plot the 2 most different time series in another graph. Label your axes. **(5 pts)**\n",
    "\n",
    "You may find the [pandas.DataFrame.resample](http://pandas.pydata.org/pandas-docs/stable/generated/pandas.DataFrame.resample.html) module helpful."
   ]
  },
  {
   "cell_type": "code",
   "execution_count": null,
   "metadata": {
    "collapsed": false
   },
   "outputs": [],
   "source": [
    "import matplotlib.pyplot as plt\n",
    "import pandas as pd\n",
    "import sys\n",
    "import math\n",
    "from lxml import etree\n",
    "\n",
    "xmlfile = 'stackoverflow-posts-2015.xml'\n",
    "context = etree.iterparse(xmlfile)\n",
    "i=0\n",
    "TagDic = {}   #Dictionary of the Tags\n",
    "Top100 = []      #List of the Top 100 Tags\n",
    "TSDic = {} #Dictionary of all the timeseries, resampled daily by\n",
    "\n",
    "def EucDistance (vec1, vec2):\n",
    "    dist = 0\n",
    "    for x in range(0,len(vec1)):\n",
    "        dist += (vec1[x]-vec2[x])**2\n",
    "    return math.sqrt(dist)\n",
    "\n",
    "def L1Distance (vec1, vec2):\n",
    "    dist = 0\n",
    "    for x in range(0,len(vec1)):\n",
    "        dist += math.fabs(vec1[x]-vec2[x])\n",
    "    return dist\n",
    "\n",
    "def tryPartition (StringOrNone):\n",
    "    if StringOrNone == None:\n",
    "        return 'none'\n",
    "    else:\n",
    "        return StringOrNone.partition('>')[0].partition('<')[2]\n",
    "    \n",
    "for action, elem in context: #for values in the xml, we extract the CreationDate and the First Tag\n",
    "    if elem.get('PostTypeId') == \"1\": # if post is an question\n",
    "        Tag = tryPartition(elem.get('Tags'))\n",
    "        if Tag == 'none':\n",
    "            continue\n",
    "        if not(Tag in TagDic):\n",
    "            TagDic[Tag] = {'tag':Tag, 'dates':[pd.to_datetime(elem.get('CreationDate'))]}\n",
    "        else:\n",
    "            TagDic[Tag]['dates'].append(pd.to_datetime(elem.get('CreationDate')))\n",
    "    if i>100000:\n",
    "        break\n",
    "        i+=1\n",
    "        \n",
    "for Tag in TagDic: # This sorts out the top 100 Tags, and puts them in Top100\n",
    "    if len(Top100)<100:\n",
    "        Top100.append(TagDic[Tag])\n",
    "    elif len(TagDic[Tag]['dates'])>len(Top100[0]['dates']):\n",
    "        Top100[0]=TagDic[Tag]\n",
    "    Top100 = sorted(Top100, key=lambda k: len(k['dates']))\n",
    "for Val in Top100:\n",
    "    dates = Val['dates']\n",
    "    series = pd.Series([1]*len(dates), index=dates)\n",
    "    TimeSeries = series.resample('D').sum()\n",
    "    TSDic[Val['tag']] = TimeSeries\n",
    "\n",
    "DfTS = pd.DataFrame(TSDic).fillna(0)\n",
    "\n",
    "print(DfTS)"
   ]
  },
  {
   "cell_type": "markdown",
   "metadata": {},
   "source": [
    "%matplotlib inline\n",
    "\n",
    "Names = (\".\",\".\")\n",
    "MinDist = sys.maxsize\n",
    "\n",
    "for ColName1 in DfTS.columns:\n",
    "    for ColName2 in DfTS.columns:\n",
    "        if ColName1!=ColName2:\n",
    "            Dist = EucDistance(DfTS[ColName1],DfTS[ColName2])\n",
    "            if Dist<MinDist:\n",
    "                MinDist = Dist\n",
    "                Names = (ColName1,ColName2)\n",
    "print(Names)  # These are the tags with the two closest time series\n",
    "print(EucDistance(DfTS[Names[0]],DfTS[Names[1]])) # this is that closest distance\n",
    "\n",
    "\n",
    "ts1 = DfTS[Names[0]]\n",
    "ts2 = DfTS[Names[1]]\n",
    "ts1.plot()\n",
    "ts2.plot()\n"
   ]
  },
  {
   "cell_type": "markdown",
   "metadata": {},
   "source": [
    "Choose a different distance/similarity metric and repeat the same time series analysis. Compare the two different metrics you used. **(10 pts)**"
   ]
  },
  {
   "cell_type": "code",
   "execution_count": null,
   "metadata": {
    "collapsed": true
   },
   "outputs": [],
   "source": [
    "%matplotlib inline\n",
    "\n",
    "NamesL1 = (\".\",\".\")\n",
    "MinDistL1 = sys.maxsize\n",
    "\n",
    "for ColName1 in DfTS.columns:\n",
    "    for ColName2 in DfTS.columns:\n",
    "        if ColName1!=ColName2:\n",
    "            Dist = L1Distance(DfTS[ColName1],DfTS[ColName2])\n",
    "            if Dist<MinDistL1:\n",
    "                MinDistL1 = Dist\n",
    "                NamesL1 = (ColName1,ColName2)\n",
    "\n",
    "\n",
    "print(NamesL1)  # These are the tags with the two closest time series using L1 dist\n",
    "print(L1Distance(DfTS[NamesL1[0]],DfTS[NamesL1[1]])) # this is that closest L1 distance\n",
    "\n",
    "ts3 = DfTS[NamesL1[0]]\n",
    "ts4 = DfTS[NamesL1[1]]\n",
    "ts3.plot()\n",
    "ts4.plot()\n"
   ]
  }
 ],
 "metadata": {
  "anaconda-cloud": {},
  "kernelspec": {
   "display_name": "Python [conda root]",
   "language": "python",
   "name": "conda-root-py"
  },
  "language_info": {
   "codemirror_mode": {
    "name": "ipython",
    "version": 3
   },
   "file_extension": ".py",
   "mimetype": "text/x-python",
   "name": "python",
   "nbconvert_exporter": "python",
   "pygments_lexer": "ipython3",
   "version": "3.5.2"
  }
 },
 "nbformat": 4,
 "nbformat_minor": 0
}
